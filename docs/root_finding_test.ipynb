{
 "cells": [
  {
   "cell_type": "markdown",
   "metadata": {},
   "source": [
    "The test function is $y = 5x^2+10x-8$. Newton's method is implemented to find the root of the test function. The user should be able to find the root and access the Jacobian of each iteration.\n",
    "\n",
    "First, we instantiate a `Number(5)` as the initial guess ($x_0$) of the root. The `Newton()` method takes the test function and the initial guess. \n",
    "\n",
    "Second, the function and its derivative are evaluated at $x_0$, then $x_1$ is calculated as $x_1 = x_0-\\frac{f(x_0)}.\n",
    "{f'(x_0)}$. The jacobian is stored in the `jacobians` list\n",
    "\n",
    "Third, the evaluation of the function at $x_1$ is compared with the threshhold, in this case $10^{-7}$. The absolute value of the function's value at $x_1$ is larger than the threshold, so $x_0$'s value is updated, i.e., $x_0 = x_1$.\n",
    "\n",
    "Fourth, the function and its derivative is again evaluated at the new $x_0$. Derivative is stored in the `jacobians` list. This process is repeated until the threshold is met.\n",
    "\n",
    "Fifth, the `Newton()` method returns the root and the `jacobians` list. User may access each step's derivative from this list."
   ]
  },
  {
   "cell_type": "code",
   "execution_count": 6,
   "metadata": {},
   "outputs": [
    {
     "name": "stdout",
     "output_type": "stream",
     "text": [
      "Number(val=0.6124515496597099) 16.124515496597116\n"
     ]
    }
   ],
   "source": [
    "import sys\n",
    "sys.path.append('..')\n",
    "\n",
    "import autodiff.operations as operations\n",
    "from autodiff.structures import Number\n",
    "import numpy as np\n",
    "from copy import deepcopy\n",
    "\n",
    "def func(x):\n",
    "    return 5 * x ** 2 + 10 * x - 8\n",
    "\n",
    "def newtons_method(func, initial_guess):\n",
    "    \n",
    "    #stores a list of jacobians from each iteration\n",
    "    jacobians = []\n",
    "    \n",
    "    x0 = initial_guess\n",
    "\n",
    "    fxn = func(initial_guess)\n",
    "    \n",
    "    fpxn = fxn.jacobian(initial_guess)\n",
    "    \n",
    "    x1 = x0 - fxn/fpxn\n",
    "\n",
    "    jacobians.append(fpxn)\n",
    "    \n",
    "    \n",
    "    while abs(fxn.val) > 1e-7:\n",
    "        x0 = x1\n",
    "\n",
    "        fxn = func(x0)\n",
    "\n",
    "        fpxn = fxn.jacobian(x0)\n",
    "\n",
    "        jacobians.append(fpxn)\n",
    "        \n",
    "        x1 = x0- fxn / fpxn\n",
    "        \n",
    "    return x1, jacobians\n",
    "    \n",
    "\n",
    "x0 = Number(5)\n",
    "xstar, jacobians = newtons_method(func, x0)\n",
    "\n",
    "print(xstar, jacobians[-1])"
   ]
  },
  {
   "cell_type": "code",
   "execution_count": null,
   "metadata": {},
   "outputs": [],
   "source": []
  },
  {
   "cell_type": "code",
   "execution_count": null,
   "metadata": {},
   "outputs": [],
   "source": []
  },
  {
   "cell_type": "code",
   "execution_count": null,
   "metadata": {},
   "outputs": [],
   "source": []
  },
  {
   "cell_type": "code",
   "execution_count": null,
   "metadata": {},
   "outputs": [],
   "source": []
  }
 ],
 "metadata": {
  "kernelspec": {
   "display_name": "Python 3",
   "language": "python",
   "name": "python3"
  },
  "language_info": {
   "codemirror_mode": {
    "name": "ipython",
    "version": 3
   },
   "file_extension": ".py",
   "mimetype": "text/x-python",
   "name": "python",
   "nbconvert_exporter": "python",
   "pygments_lexer": "ipython3",
   "version": "3.7.3"
  }
 },
 "nbformat": 4,
 "nbformat_minor": 4
}
