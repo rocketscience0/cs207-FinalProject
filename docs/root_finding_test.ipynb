{
 "cells": [
  {
   "cell_type": "code",
   "execution_count": 1,
   "metadata": {},
   "outputs": [],
   "source": [
    "from functools import wraps\n",
    "import numpy as np\n",
    "import sys\n",
    "sys.path.append('..')\n",
    "\n",
    "from autodiff import operations\n",
    "from autodiff.structures import Number"
   ]
  },
  {
   "cell_type": "markdown",
   "metadata": {},
   "source": [
    "First, we instantiate a `Number()` ..."
   ]
  },
  {
   "cell_type": "code",
   "execution_count": 5,
   "metadata": {},
   "outputs": [],
   "source": [
    "##### Test Case : Newton's Method #####\n",
    "\n",
    "'''\n",
    "The user is trying to find the root of y = 5x^2+10x-8\n",
    "\n",
    "Implementing Newton's method:\n",
    "\n",
    "x_n+1 = x_n - f(x_n)/f'(x_n)\n",
    "\n",
    "'''\n",
    "def func(x):\n",
    "    return 5 * x ** 2 + 10 * x - 8\n",
    "\n",
    "def Newton(func,initial_guess):\n",
    "    \n",
    "    #stores a list of jacobians from each iteration\n",
    "    jacobians = []\n",
    "    \n",
    "    x0 = initial_guess\n",
    "\n",
    "    fxn = func(initial_guess)\n",
    "    \n",
    "    fpxn = fxn.jacobian(initial_guess)\n",
    "    \n",
    "    x1 = x0 - fxn/fpxn\n",
    "\n",
    "    jacobians.append(fpxn)\n",
    "    \n",
    "    \n",
    "    while fxn.val>1*10**-8:\n",
    "        x0 = np.copy(x1).item()\n",
    "        \n",
    "        fxn = func(x0)\n",
    "\n",
    "        fpxn = fxn.jacobian(x0)\n",
    "\n",
    "        jacobians.append(fpxn)\n",
    "        \n",
    "        x1 = x0- fxn/fpxn\n",
    "        \n",
    "    return x1,jacobians\n",
    "\n",
    "q = Newton(func,Number(5))"
   ]
  },
  {
   "cell_type": "code",
   "execution_count": 4,
   "metadata": {},
   "outputs": [
    {
     "name": "stdout",
     "output_type": "stream",
     "text": [
      "0.6124515496597099\n"
     ]
    }
   ],
   "source": [
    "print(q[0].val)"
   ]
  },
  {
   "cell_type": "code",
   "execution_count": 17,
   "metadata": {},
   "outputs": [
    {
     "ename": "KeyError",
     "evalue": "Number(val=5)",
     "output_type": "error",
     "traceback": [
      "\u001b[1;31m---------------------------------------------------------------------------\u001b[0m",
      "\u001b[1;31mKeyError\u001b[0m                                  Traceback (most recent call last)",
      "\u001b[1;32m<ipython-input-17-08e670d9e3a5>\u001b[0m in \u001b[0;36m<module>\u001b[1;34m\u001b[0m\n\u001b[0;32m      1\u001b[0m \u001b[1;31m# print(q[0].jacobian(Number(5)))\u001b[0m\u001b[1;33m\u001b[0m\u001b[1;33m\u001b[0m\u001b[1;33m\u001b[0m\u001b[0m\n\u001b[1;32m----> 2\u001b[1;33m \u001b[0mq\u001b[0m\u001b[1;33m[\u001b[0m\u001b[1;36m0\u001b[0m\u001b[1;33m]\u001b[0m\u001b[1;33m.\u001b[0m\u001b[0mderiv\u001b[0m\u001b[1;33m[\u001b[0m\u001b[0mNumber\u001b[0m\u001b[1;33m(\u001b[0m\u001b[1;36m5\u001b[0m\u001b[1;33m)\u001b[0m\u001b[1;33m]\u001b[0m\u001b[1;33m\u001b[0m\u001b[1;33m\u001b[0m\u001b[0m\n\u001b[0m",
      "\u001b[1;31mKeyError\u001b[0m: Number(val=5)"
     ]
    }
   ],
   "source": [
    "# print(q[0].jacobian(Number(5)))\n",
    "q[0].deriv[Number(5)]"
   ]
  },
  {
   "cell_type": "code",
   "execution_count": 17,
   "metadata": {},
   "outputs": [
    {
     "data": {
      "text/plain": [
       "Number(val=243)"
      ]
     },
     "execution_count": 17,
     "metadata": {},
     "output_type": "execute_result"
    }
   ],
   "source": []
  },
  {
   "cell_type": "code",
   "execution_count": null,
   "metadata": {},
   "outputs": [],
   "source": []
  }
 ],
 "metadata": {
  "kernelspec": {
   "display_name": "Python 3",
   "language": "python",
   "name": "python3"
  },
  "language_info": {
   "codemirror_mode": {
    "name": "ipython",
    "version": 3
   },
   "file_extension": ".py",
   "mimetype": "text/x-python",
   "name": "python",
   "nbconvert_exporter": "python",
   "pygments_lexer": "ipython3",
   "version": "3.6.8"
  }
 },
 "nbformat": 4,
 "nbformat_minor": 4
}
