{
 "cells": [
  {
   "cell_type": "markdown",
   "metadata": {},
   "source": [
    "The test function is $y = 5x^2+10x-8$. BFGS's method is implemented to find the minimum of the test function. The user should be able to find the x and y of the minmium as well as access the jacobian of eaach optimization step.\n",
    "\n",
    "First, we instantiate a `Number(5)` as the initial guess ($x_0$) of the root to the minimum. The `bfgs()` method takes the test function and the initial guess. \n",
    "\n",
    "Second, the function and its derivative are evaluated at $x_0$. BFGS requires a speculated Hessian, and the initial guess is usually an identity matrix, or in the scalar case, 1. The initial guess of hessian is stored in $b_0$ Then an intermediate $s_0$ is determined through solving $b_0s_0=-\\nabla func(x_0)$\n",
    "\n",
    "Third, $x_1$'s value is set to be $x_0+s_0$\n",
    "\n",
    "Fourth, another intermediate $y_0$'s value is set to be $\\nabla(x_1)-\\nabla(x_0)$\n",
    "\n",
    "Fifth, $b_1$ is updated and its value is equal to $b_1=b_0+\\Delta b_0$, where $\\Delta b_0$ is equivalent to $\\frac{y_0}{s_0}-b0$\n",
    "\n",
    "Sixth, The values of $b_0$ and $x_0$ are updated with $b_1$ and $x_1$, respectively. Such process repeats until the jacobian turns 0\n",
    "\n",
    "Note, in our example, "
   ]
  },
  {
   "cell_type": "code",
   "execution_count": 6,
   "metadata": {},
   "outputs": [
    {
     "name": "stdout",
     "output_type": "stream",
     "text": [
      "The jacobians at 1st, 2nd and final steps are: [60, -540.0, 0.0] . The jacobian value is 0 in the last step, indicating completion of the optimization process.\n"
     ]
    }
   ],
   "source": [
    "import sys\n",
    "sys.path.append('..')\n",
    "\n",
    "import autodiff.operations as operations\n",
    "from autodiff.structures import Number\n",
    "import numpy as np\n",
    "\n",
    "\n",
    "def func(x):\n",
    "    return 5 * x ** 2 + 10 * x - 8\n",
    "\n",
    "def bfgs(func, initial_guess):\n",
    "    \n",
    "    #bfgs for scalar functions\n",
    "    \n",
    "    x0 = initial_guess\n",
    "    \n",
    "    #initial guess of hessian\n",
    "    b0 = 1\n",
    "    \n",
    "    fxn0 = func(x0)\n",
    "\n",
    "    fpxn0 = fxn0.jacobian(x0)\n",
    "    \n",
    "    jacobians = []\n",
    "    \n",
    "    jacobians.append(fpxn0)\n",
    "    \n",
    "    while(np.abs(fpxn0)>1*10**-7):\n",
    "        fxn0 = func(x0)\n",
    "\n",
    "        fpxn0 = fxn0.jacobian(x0)\n",
    "\n",
    "        s0 = -fpxn0/b0\n",
    "\n",
    "        x1=x0+s0 \n",
    "        \n",
    "        fxn1 = func(x1)\n",
    "        fpxn1 = fxn1.jacobian(x1)\n",
    "        \n",
    "        \n",
    "        y0 = fpxn1-fpxn0\n",
    "        \n",
    "        if y0 == 0:\n",
    "            break\n",
    "            \n",
    "        #delta_b = y0**2/(y0*s0)-b0*s0**2*b0/(s0*b0*s0)\n",
    "        delta_b = y0/s0-b0\n",
    "        b1 = b0 + delta_b\n",
    "        \n",
    "        x0 = x1\n",
    "        \n",
    "        b0 = b1\n",
    "        \n",
    "        jacobians.append(fpxn1)\n",
    "\n",
    "        \n",
    "        \n",
    "    return x0,func(x0),jacobians\n",
    "    \n",
    "x0 = Number(5)\n",
    "xstar,minimum,jacobians = bfgs(func,x0)\n",
    "print(\"The jacobians at 1st, 2nd and final steps are:\",jacobians,'. The jacobian value is 0 in the last step, indicating completion of the optimization process.')"
   ]
  },
  {
   "cell_type": "code",
   "execution_count": null,
   "metadata": {},
   "outputs": [],
   "source": []
  },
  {
   "cell_type": "code",
   "execution_count": null,
   "metadata": {},
   "outputs": [],
   "source": []
  },
  {
   "cell_type": "code",
   "execution_count": null,
   "metadata": {},
   "outputs": [],
   "source": []
  },
  {
   "cell_type": "code",
   "execution_count": 27,
   "metadata": {},
   "outputs": [],
   "source": []
  },
  {
   "cell_type": "code",
   "execution_count": null,
   "metadata": {},
   "outputs": [],
   "source": []
  }
 ],
 "metadata": {
  "kernelspec": {
   "display_name": "Python 3",
   "language": "python",
   "name": "python3"
  },
  "language_info": {
   "codemirror_mode": {
    "name": "ipython",
    "version": 3
   },
   "file_extension": ".py",
   "mimetype": "text/x-python",
   "name": "python",
   "nbconvert_exporter": "python",
   "pygments_lexer": "ipython3",
   "version": "3.7.3"
  }
 },
 "nbformat": 4,
 "nbformat_minor": 2
}
