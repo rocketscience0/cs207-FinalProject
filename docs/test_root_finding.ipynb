{
 "cells": [
  {
   "cell_type": "code",
   "execution_count": 1,
   "metadata": {},
   "outputs": [],
   "source": [
    "import sys\n",
    "sys.path.append('..')\n",
    "\n",
    "import numpy as np\n",
    "from autodiff.structures import Number\n",
    "from autodiff.structures import Array\n",
    "from autodiff.root_finding import newtons_method\n",
    "import timeit\n"
   ]
  },
  {
   "cell_type": "markdown",
   "metadata": {},
   "source": [
    "Our autodiff software contains a Newton's root finding finding algorithm that utilizes the jacobian calculated with AD.\n",
    "\n",
    "Here is an example comparing our method with scipy secant and newton methods.\n",
    "\n",
    "Let's see how AD Newton's method work.\n",
    "\n",
    "The test function we are using is\n",
    "\n",
    "$f(x)_0 = 1-4x_0+2x_0^2-2x_1^3$\n",
    "\n",
    "$f(x)_1 = -4+x_0^4+4x_1^2+4x_1^4$\n",
    "\n",
    "We use $[-0.1,1.5]$ as the initial guess"
   ]
  },
  {
   "cell_type": "code",
   "execution_count": 4,
   "metadata": {},
   "outputs": [
    {
     "name": "stdout",
     "output_type": "stream",
     "text": [
      "The xstar is [Number(val=0.061770126338607366) Number(val=0.7244905153472166)] \n",
      "\n",
      "The jacobian at each steps  [[[-4.4, -13.5], [-0.004000000000000001, 58.0]], [[-4.537332225939654, -7.477761769678479], [-0.009696358864704982, 26.261301143578653]], [[-3.9271975096122316, -4.459400632975112], [2.411674683279204e-05, 14.251982208281563]], [[-3.758982993265335, -3.3370684021334456], [0.0008750302820991094, 10.63652554254736]], [[-3.75276853955949, -3.154169572693587], [0.0009444766387957311, 10.09846680127976]], [[-3.752919361594029, -3.1493224177083685], [0.0009427491765278436, 10.084414518957553]], [[-3.7529194946455062, -3.1493190409700915], [0.0009427476535339212, 10.08440473329551]]] \n",
      "\n",
      "The function value at xstar is (Number(val=-1.1102230246251565e-16), Number(val=0.0)) \n",
      "\n",
      "The time taken for the root finding is  0.0007232140000006382\n"
     ]
    }
   ],
   "source": [
    "start = timeit.timeit()\n",
    "def func2(x):\n",
    "    return 1-4*x[0]+2*x[0]**2-2*x[1]**3,-4+x[0]**4+4*x[1]+4*x[1]**4\n",
    "\n",
    "initial_guess = Array([Number(-0.1),Number(1.5)])\n",
    "\n",
    "results = newtons_method(func2,initial_guess,show_fxn=True,iterations=100,tolerance=10**-12)\n",
    "\n",
    "end = timeit.timeit()\n",
    "print(\"The xstar is\",results[0],'\\n')\n",
    "print(\"The jacobian at each steps \",results[1],'\\n')\n",
    "print(\"The function value at xstar is\",results[2],'\\n')\n",
    "\n",
    "print(\"The time taken for the root finding is \",start-end)"
   ]
  },
  {
   "cell_type": "markdown",
   "metadata": {},
   "source": [
    "Now let's see how scipy's secant method works on the test function."
   ]
  },
  {
   "cell_type": "code",
   "execution_count": 5,
   "metadata": {},
   "outputs": [
    {
     "name": "stdout",
     "output_type": "stream",
     "text": [
      "The xstar is [0.06177013 0.72449052] \n",
      "\n",
      "The time taken for the root finding is   0.0028688609999996117\n"
     ]
    }
   ],
   "source": [
    "from scipy import optimize\n",
    "\n",
    "start1 = timeit.timeit()\n",
    "results = optimize.newton(func2,[-0.1,1.5],maxiter=10000)\n",
    "end1 = timeit.timeit()\n",
    "\n",
    "print(\"The xstar is\",results,'\\n')\n",
    "print(\"The time taken for the root finding is  \",start1-end1)"
   ]
  },
  {
   "cell_type": "code",
   "execution_count": null,
   "metadata": {},
   "outputs": [],
   "source": []
  },
  {
   "cell_type": "code",
   "execution_count": null,
   "metadata": {},
   "outputs": [],
   "source": []
  }
 ],
 "metadata": {
  "kernelspec": {
   "display_name": "Python 3",
   "language": "python",
   "name": "python3"
  },
  "language_info": {
   "codemirror_mode": {
    "name": "ipython",
    "version": 3
   },
   "file_extension": ".py",
   "mimetype": "text/x-python",
   "name": "python",
   "nbconvert_exporter": "python",
   "pygments_lexer": "ipython3",
   "version": "3.7.4"
  }
 },
 "nbformat": 4,
 "nbformat_minor": 2
}
